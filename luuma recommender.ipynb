{
 "cells": [
  {
   "cell_type": "code",
   "execution_count": 3,
   "id": "48cdac0c",
   "metadata": {},
   "outputs": [
    {
     "name": "stdout",
     "output_type": "stream",
     "text": [
      "         id                                title   type  \\\n",
      "0  ts300399  Five Came Back: The Reference Films   SHOW   \n",
      "1   tm84618                          Taxi Driver  MOVIE   \n",
      "2  tm154986                          Deliverance  MOVIE   \n",
      "3  tm127384      Monty Python and the Holy Grail  MOVIE   \n",
      "4  tm120801                      The Dirty Dozen  MOVIE   \n",
      "\n",
      "                                         description  release_year  \\\n",
      "0  This collection includes 12 World War II-era p...          1945   \n",
      "1  A mentally unstable Vietnam War veteran works ...          1976   \n",
      "2  Intent on seeing the Cahulawassee River before...          1972   \n",
      "3  King Arthur, accompanied by his squire, recrui...          1975   \n",
      "4  12 American military prisoners in World War II...          1967   \n",
      "\n",
      "  age_certification  runtime                                       genres  \\\n",
      "0             TV-MA       51                            ['documentation']   \n",
      "1                 R      114                           ['drama', 'crime']   \n",
      "2                 R      109  ['drama', 'action', 'thriller', 'european']   \n",
      "3                PG       91              ['fantasy', 'action', 'comedy']   \n",
      "4               NaN      150                            ['war', 'action']   \n",
      "\n",
      "  production_countries  seasons    imdb_id  imdb_score  imdb_votes  \\\n",
      "0               ['US']      1.0        NaN         NaN         NaN   \n",
      "1               ['US']      NaN  tt0075314         8.2    808582.0   \n",
      "2               ['US']      NaN  tt0068473         7.7    107673.0   \n",
      "3               ['GB']      NaN  tt0071853         8.2    534486.0   \n",
      "4         ['GB', 'US']      NaN  tt0061578         7.7     72662.0   \n",
      "\n",
      "   tmdb_popularity  tmdb_score  \n",
      "0            0.600         NaN  \n",
      "1           40.965       8.179  \n",
      "2           10.010       7.300  \n",
      "3           15.461       7.811  \n",
      "4           20.398       7.600  \n"
     ]
    }
   ],
   "source": [
    "import pandas as pd\n",
    "\n",
    "# Load the dataset\n",
    "df = pd.read_csv(\"titles.csv\")\n",
    "\n",
    "# Show the first few rows to understand the structure\n",
    "print(df.head())\n"
   ]
  },
  {
   "cell_type": "code",
   "execution_count": 5,
   "id": "de8cb3c2",
   "metadata": {},
   "outputs": [],
   "source": [
    "def preprocess_text(text):\n",
    "    # Check if the text is a string, else return an empty string or some default value\n",
    "    if isinstance(text, str):\n",
    "        # Convert text to lowercase\n",
    "        text = text.lower()\n",
    "        # Remove non-alphanumeric characters\n",
    "        text = re.sub(r'[^a-zA-Z0-9\\s]', '', text)\n",
    "    else:\n",
    "        text = \"\"\n",
    "    return text\n",
    "\n",
    "# Apply preprocessing to the 'description' column\n",
    "df['processed_description'] = df['description'].apply(preprocess_text)\n"
   ]
  },
  {
   "cell_type": "code",
   "execution_count": 6,
   "id": "db38d364",
   "metadata": {},
   "outputs": [],
   "source": [
    "from sklearn.feature_extraction.text import TfidfVectorizer\n",
    "\n",
    "# Initialize the vectorizer\n",
    "vectorizer = TfidfVectorizer(stop_words='english')\n",
    "\n",
    "# Fit and transform the descriptions\n",
    "tfidf_matrix = vectorizer.fit_transform(df['processed_description'])\n",
    "\n",
    "# Now we'll need to process the user query the same way.\n",
    "def vectorize_user_query(query):\n",
    "    query = preprocess_text(query)\n",
    "    return vectorizer.transform([query])\n"
   ]
  },
  {
   "cell_type": "code",
   "execution_count": 7,
   "id": "8b584557",
   "metadata": {},
   "outputs": [],
   "source": [
    "from sklearn.metrics.pairwise import cosine_similarity\n",
    "\n",
    "def get_top_recommendations(query, top_n=5):\n",
    "    # Vectorize the user query\n",
    "    query_vec = vectorize_user_query(query)\n",
    "    \n",
    "    # Compute cosine similarity between the query and all movie descriptions\n",
    "    similarities = cosine_similarity(query_vec, tfidf_matrix).flatten()\n",
    "\n",
    "    # Get the indices of the top N most similar movies\n",
    "    top_indices = similarities.argsort()[-top_n:][::-1]\n",
    "\n",
    "    # Get the top N movie titles and similarity scores\n",
    "    recommendations = [(df.iloc[i]['title'], similarities[i]) for i in top_indices]\n",
    "    \n",
    "    return recommendations\n"
   ]
  },
  {
   "cell_type": "code",
   "execution_count": 8,
   "id": "e54b7830",
   "metadata": {},
   "outputs": [
    {
     "name": "stdout",
     "output_type": "stream",
     "text": [
      "Title: Fukrey Boyzzz: Space Mein Fukrapanti, Similarity Score: 0.1698\n",
      "Title: A StoryBots Space Adventure, Similarity Score: 0.1696\n",
      "Title: The Wonderful: Stories from the Space Station, Similarity Score: 0.1580\n",
      "Title: Gattaca, Similarity Score: 0.1540\n",
      "Title: Marco Luque - We are together, Similarity Score: 0.1450\n"
     ]
    }
   ],
   "source": [
    "# Example query\n",
    "query = \"I love thrilling action movies set in space, with a comedic twist.\"\n",
    "\n",
    "# Get recommendations\n",
    "recommendations = get_top_recommendations(query, top_n=5)\n",
    "\n",
    "# Display recommendations\n",
    "for title, score in recommendations:\n",
    "    print(f\"Title: {title}, Similarity Score: {score:.4f}\")\n"
   ]
  },
  {
   "cell_type": "code",
   "execution_count": null,
   "id": "f9af71e1",
   "metadata": {},
   "outputs": [],
   "source": []
  }
 ],
 "metadata": {
  "kernelspec": {
   "display_name": "Python 3 (ipykernel)",
   "language": "python",
   "name": "python3"
  },
  "language_info": {
   "codemirror_mode": {
    "name": "ipython",
    "version": 3
   },
   "file_extension": ".py",
   "mimetype": "text/x-python",
   "name": "python",
   "nbconvert_exporter": "python",
   "pygments_lexer": "ipython3",
   "version": "3.11.4"
  }
 },
 "nbformat": 4,
 "nbformat_minor": 5
}
